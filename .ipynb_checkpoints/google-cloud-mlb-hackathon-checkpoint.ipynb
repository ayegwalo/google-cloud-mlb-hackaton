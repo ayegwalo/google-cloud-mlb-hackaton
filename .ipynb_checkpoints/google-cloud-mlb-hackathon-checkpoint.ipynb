{
 "cells": [
  {
   "cell_type": "code",
   "execution_count": 1,
   "id": "95e4078f-2e9b-4d40-9159-89a43ff35a14",
   "metadata": {},
   "outputs": [
    {
     "name": "stdout",
     "output_type": "stream",
     "text": [
      "google-cloud-mlb-hackathon\n"
     ]
    }
   ],
   "source": [
    "print(\"google-cloud-mlb-hackathon\")"
   ]
  },
  {
   "cell_type": "code",
   "execution_count": 2,
   "id": "0ee7fa1c-75b0-47f1-ae94-224b3fcf1e74",
   "metadata": {},
   "outputs": [
    {
     "data": {
      "text/plain": [
       "sys.version_info(major=3, minor=12, micro=7, releaselevel='final', serial=0)"
      ]
     },
     "execution_count": 2,
     "metadata": {},
     "output_type": "execute_result"
    }
   ],
   "source": [
    "import sys\n",
    "\n",
    "sys.version_info\n"
   ]
  },
  {
   "cell_type": "code",
   "execution_count": 3,
   "id": "6ba86c60-7935-4802-b97f-7710194c198c",
   "metadata": {},
   "outputs": [
    {
     "name": "stdout",
     "output_type": "stream",
     "text": [
      "3.12.7 | packaged by Anaconda, Inc. | (main, Oct  4 2024, 08:22:19) [Clang 14.0.6 ]\n"
     ]
    }
   ],
   "source": [
    "print(sys.version)"
   ]
  },
  {
   "cell_type": "code",
   "execution_count": 4,
   "id": "18a7166f-e80a-41a5-a8a5-4f4a82e131a0",
   "metadata": {},
   "outputs": [
    {
     "data": {
      "text/html": [
       "<div>\n",
       "<style scoped>\n",
       "    .dataframe tbody tr th:only-of-type {\n",
       "        vertical-align: middle;\n",
       "    }\n",
       "\n",
       "    .dataframe tbody tr th {\n",
       "        vertical-align: top;\n",
       "    }\n",
       "\n",
       "    .dataframe thead th {\n",
       "        text-align: right;\n",
       "    }\n",
       "</style>\n",
       "<table border=\"1\" class=\"dataframe\">\n",
       "  <thead>\n",
       "    <tr style=\"text-align: right;\">\n",
       "      <th></th>\n",
       "      <th>play_id</th>\n",
       "      <th>title</th>\n",
       "      <th>ExitVelocity</th>\n",
       "      <th>HitDistance</th>\n",
       "      <th>LaunchAngle</th>\n",
       "      <th>video</th>\n",
       "    </tr>\n",
       "  </thead>\n",
       "  <tbody>\n",
       "    <tr>\n",
       "      <th>0</th>\n",
       "      <td>5b254850-9e14-48d2-8baf-c3e12ecbe68d</td>\n",
       "      <td>John Jaso homers (6) on a fly ball to center f...</td>\n",
       "      <td>102.9</td>\n",
       "      <td>412.0</td>\n",
       "      <td>25.0</td>\n",
       "      <td>https://sporty-clips.mlb.com/YjlLTlpfWGw0TUFRP...</td>\n",
       "    </tr>\n",
       "    <tr>\n",
       "      <th>1</th>\n",
       "      <td>0110e760-5d49-4c53-ad29-e74c787c038d</td>\n",
       "      <td>Evan Longoria homers (34) on a fly ball to lef...</td>\n",
       "      <td>103.1</td>\n",
       "      <td>423.0</td>\n",
       "      <td>31.0</td>\n",
       "      <td>https://sporty-clips.mlb.com/OHcxUXlfWGw0TUFRP...</td>\n",
       "    </tr>\n",
       "    <tr>\n",
       "      <th>2</th>\n",
       "      <td>3b9ecf94-e3fe-4d79-8b33-efe174dfa53e</td>\n",
       "      <td>Marwin Gonzalez homers (13) on a line drive to...</td>\n",
       "      <td>106.6</td>\n",
       "      <td>390.0</td>\n",
       "      <td>22.0</td>\n",
       "      <td>https://sporty-clips.mlb.com/Mk9vbFBfWGw0TUFRP...</td>\n",
       "    </tr>\n",
       "    <tr>\n",
       "      <th>3</th>\n",
       "      <td>bda1cb83-dca9-46b2-aaad-6c1f009cd51c</td>\n",
       "      <td>Eddie Rosario homers (10) on a fly ball to rig...</td>\n",
       "      <td>98.5</td>\n",
       "      <td>368.0</td>\n",
       "      <td>30.0</td>\n",
       "      <td>https://sporty-clips.mlb.com/ajlhWFpfWGw0TUFRP...</td>\n",
       "    </tr>\n",
       "    <tr>\n",
       "      <th>4</th>\n",
       "      <td>9f87e907-3c4f-4187-8fb0-d6784b3b1f1a</td>\n",
       "      <td>Marcus Semien homers (26) on a fly ball to lef...</td>\n",
       "      <td>106.0</td>\n",
       "      <td>435.0</td>\n",
       "      <td>32.0</td>\n",
       "      <td>https://sporty-clips.mlb.com/bGUyNEdfWGw0TUFRP...</td>\n",
       "    </tr>\n",
       "  </tbody>\n",
       "</table>\n",
       "</div>"
      ],
      "text/plain": [
       "                                play_id  \\\n",
       "0  5b254850-9e14-48d2-8baf-c3e12ecbe68d   \n",
       "1  0110e760-5d49-4c53-ad29-e74c787c038d   \n",
       "2  3b9ecf94-e3fe-4d79-8b33-efe174dfa53e   \n",
       "3  bda1cb83-dca9-46b2-aaad-6c1f009cd51c   \n",
       "4  9f87e907-3c4f-4187-8fb0-d6784b3b1f1a   \n",
       "\n",
       "                                               title  ExitVelocity  \\\n",
       "0  John Jaso homers (6) on a fly ball to center f...         102.9   \n",
       "1  Evan Longoria homers (34) on a fly ball to lef...         103.1   \n",
       "2  Marwin Gonzalez homers (13) on a line drive to...         106.6   \n",
       "3  Eddie Rosario homers (10) on a fly ball to rig...          98.5   \n",
       "4  Marcus Semien homers (26) on a fly ball to lef...         106.0   \n",
       "\n",
       "   HitDistance  LaunchAngle                                              video  \n",
       "0        412.0         25.0  https://sporty-clips.mlb.com/YjlLTlpfWGw0TUFRP...  \n",
       "1        423.0         31.0  https://sporty-clips.mlb.com/OHcxUXlfWGw0TUFRP...  \n",
       "2        390.0         22.0  https://sporty-clips.mlb.com/Mk9vbFBfWGw0TUFRP...  \n",
       "3        368.0         30.0  https://sporty-clips.mlb.com/ajlhWFpfWGw0TUFRP...  \n",
       "4        435.0         32.0  https://sporty-clips.mlb.com/bGUyNEdfWGw0TUFRP...  "
      ]
     },
     "execution_count": 4,
     "metadata": {},
     "output_type": "execute_result"
    }
   ],
   "source": [
    "import pandas as pd\n",
    "\n",
    "# Correct raw URL of the CSV file\n",
    "url = \"https://raw.githubusercontent.com/MajorLeagueBaseball/google-cloud-mlb-hackathon/8ce90f707e19fb46496715b1bbbe2b702c9673b4/datasets/2016-mlb-homeruns.csv\"\n",
    "\n",
    "# Load the CSV file directly from the URL\n",
    "data = pd.read_csv(url)\n",
    "\n",
    "# Display the first few rows\n",
    "data.head()"
   ]
  },
  {
   "cell_type": "code",
   "execution_count": 5,
   "id": "6a9e87a2-9333-4f0d-a71f-8b63516d7c57",
   "metadata": {},
   "outputs": [
    {
     "name": "stdout",
     "output_type": "stream",
     "text": [
      "<class 'pandas.core.frame.DataFrame'>\n",
      "RangeIndex: 5499 entries, 0 to 5498\n",
      "Data columns (total 6 columns):\n",
      " #   Column        Non-Null Count  Dtype  \n",
      "---  ------        --------------  -----  \n",
      " 0   play_id       5499 non-null   object \n",
      " 1   title         5497 non-null   object \n",
      " 2   ExitVelocity  5450 non-null   float64\n",
      " 3   HitDistance   5494 non-null   float64\n",
      " 4   LaunchAngle   5450 non-null   float64\n",
      " 5   video         5499 non-null   object \n",
      "dtypes: float64(3), object(3)\n",
      "memory usage: 257.9+ KB\n",
      "None\n"
     ]
    }
   ],
   "source": [
    "print(data.info())"
   ]
  },
  {
   "cell_type": "code",
   "execution_count": 6,
   "id": "71447c48-3910-44a6-aec4-2f68e30e040d",
   "metadata": {},
   "outputs": [
    {
     "name": "stdout",
     "output_type": "stream",
     "text": [
      "play_id         0\n",
      "title           0\n",
      "ExitVelocity    0\n",
      "HitDistance     0\n",
      "LaunchAngle     0\n",
      "video           0\n",
      "dtype: int64\n"
     ]
    }
   ],
   "source": [
    "# Fill missing numerical values with the median for better robustness\n",
    "data['ExitVelocity'] = data['ExitVelocity'].fillna(data['ExitVelocity'].median())\n",
    "data['HitDistance'] = data['HitDistance'].fillna(data['HitDistance'].median())\n",
    "data['LaunchAngle'] = data['LaunchAngle'].fillna(data['LaunchAngle'].median())\n",
    "\n",
    "# Optionally, fill missing titles with 'Unknown' (or you could drop these rows)\n",
    "data['title'] = data['title'].fillna('Unknown')\n",
    "\n",
    "# Check that there are no more missing values\n",
    "print(data.isnull().sum())\n"
   ]
  },
  {
   "cell_type": "code",
   "execution_count": 7,
   "id": "0a1293cc-eb07-4d4e-a1f9-0ded44d86d84",
   "metadata": {},
   "outputs": [
    {
     "name": "stdout",
     "output_type": "stream",
     "text": [
      "Duplicates found: 462\n"
     ]
    }
   ],
   "source": [
    "# Check for duplicates in play_id (which should be unique)\n",
    "duplicates = data[data.duplicated(subset=['play_id'])]\n",
    "print(f'Duplicates found: {duplicates.shape[0]}')\n"
   ]
  },
  {
   "cell_type": "code",
   "execution_count": 8,
   "id": "1e5e995b-d590-4dd5-97b4-3cca707b2321",
   "metadata": {},
   "outputs": [],
   "source": [
    "# If duplicates exist, you can drop them\n",
    "data = data.drop_duplicates(subset=['play_id'])"
   ]
  },
  {
   "cell_type": "code",
   "execution_count": 9,
   "id": "375266f5-4e99-41b6-a73d-4afeffc50413",
   "metadata": {},
   "outputs": [
    {
     "name": "stdout",
     "output_type": "stream",
     "text": [
      "                                   play_id  \\\n",
      "5494  7773575b-faed-46e5-b124-81630abc8a2d   \n",
      "5495  3377305e-4a01-40fd-80fb-ef73dcd64152   \n",
      "5496  e0444989-7689-498d-9983-e6ed7b01351b   \n",
      "5497  621e2ea8-1968-4e29-91d9-f73f82936a44   \n",
      "5498  0ceff932-24b8-45cb-98d9-939324c00a10   \n",
      "\n",
      "                                                  title  ExitVelocity  \\\n",
      "5494  Umpire reviewed (home run), call on the field ...          96.1   \n",
      "5495  Justin Upton homers (20) on a fly ball to righ...         107.9   \n",
      "5496  Brian McCann homers (4) on a fly ball to right...         103.4   \n",
      "5497  Mark Trumbo homers (42) on a fly ball to left ...         103.4   \n",
      "5498  Steven Souza Jr.  homers (7) on a fly ball to ...         103.4   \n",
      "\n",
      "      HitDistance  LaunchAngle  \\\n",
      "5494        368.0         29.0   \n",
      "5495        422.0         27.0   \n",
      "5496          0.0         28.0   \n",
      "5497          0.0         28.0   \n",
      "5498          0.0         28.0   \n",
      "\n",
      "                                                  video  \n",
      "5494  https://sporty-clips.mlb.com/Vk1lNXZfWGw0TUFRP...  \n",
      "5495  https://sporty-clips.mlb.com/OTkzZ0FfWGw0TUFRP...  \n",
      "5496  https://sporty-clips.mlb.com/MzR3UDFfWGw0TUFRP...  \n",
      "5497  https://sporty-clips.mlb.com/REEzVmJfWGw0TUFRP...  \n",
      "5498  https://sporty-clips.mlb.com/N1JEYkdfWGw0TUFRP...  \n"
     ]
    }
   ],
   "source": [
    "print(data.tail())"
   ]
  },
  {
   "cell_type": "code",
   "execution_count": 10,
   "id": "f80ea826-0ce6-46e6-924d-9d3372726dd6",
   "metadata": {},
   "outputs": [
    {
     "name": "stdout",
     "output_type": "stream",
     "text": [
      "       ExitVelocity  HitDistance  LaunchAngle\n",
      "count   5037.000000  5037.000000  5037.000000\n",
      "mean     103.336907   391.542462    28.039905\n",
      "std        4.354908    62.829152     5.117115\n",
      "min       87.100000     0.000000    14.000000\n",
      "25%      100.600000   381.000000    24.000000\n",
      "50%      103.400000   400.000000    28.000000\n",
      "75%      106.300000   418.000000    31.000000\n",
      "max      117.400000   504.000000    48.000000\n"
     ]
    }
   ],
   "source": [
    "print(data.describe())"
   ]
  },
  {
   "cell_type": "code",
   "execution_count": 11,
   "id": "3c464ffb-5bef-482c-a582-1c51575d7d47",
   "metadata": {},
   "outputs": [
    {
     "name": "stdout",
     "output_type": "stream",
     "text": [
      "<bound method DataFrame.sum of       play_id  title  ExitVelocity  HitDistance  LaunchAngle  video\n",
      "0       False  False         False        False        False  False\n",
      "1       False  False         False        False        False  False\n",
      "2       False  False         False        False        False  False\n",
      "3       False  False         False        False        False  False\n",
      "4       False  False         False        False        False  False\n",
      "...       ...    ...           ...          ...          ...    ...\n",
      "5494    False  False         False        False        False  False\n",
      "5495    False  False         False        False        False  False\n",
      "5496    False  False         False        False        False  False\n",
      "5497    False  False         False        False        False  False\n",
      "5498    False  False         False        False        False  False\n",
      "\n",
      "[5037 rows x 6 columns]>\n"
     ]
    }
   ],
   "source": [
    "print(data.isnull().sum)"
   ]
  },
  {
   "cell_type": "code",
   "execution_count": 12,
   "id": "536666e2-074a-41dc-b42b-2b0c82919384",
   "metadata": {},
   "outputs": [
    {
     "name": "stdout",
     "output_type": "stream",
     "text": [
      "play_id         0\n",
      "title           0\n",
      "ExitVelocity    0\n",
      "HitDistance     0\n",
      "LaunchAngle     0\n",
      "video           0\n",
      "dtype: int64\n"
     ]
    }
   ],
   "source": [
    "missing_values = data.isnull().sum()\n",
    "print (missing_values)"
   ]
  },
  {
   "cell_type": "code",
   "execution_count": 16,
   "id": "ec491d5b-dfdb-45cd-b9b5-dd3d1a731ee9",
   "metadata": {},
   "outputs": [
    {
     "name": "stderr",
     "output_type": "stream",
     "text": [
      "2024-12-22 00:41:02.706 \n",
      "  \u001b[33m\u001b[1mWarning:\u001b[0m to view this Streamlit app on a browser, run it with the following\n",
      "  command:\n",
      "\n",
      "    streamlit run /Applications/anaconda3/lib/python3.12/site-packages/ipykernel_launcher.py [ARGUMENTS]\n",
      "2024-12-22 00:41:02.711 Session state does not function when running a script without `streamlit run`\n"
     ]
    },
    {
     "data": {
      "text/plain": [
       "DeltaGenerator()"
      ]
     },
     "execution_count": 16,
     "metadata": {},
     "output_type": "execute_result"
    }
   ],
   "source": [
    "import streamlit as st\n",
    "import matplotlib.pyplot as plt\n",
    "\n",
    "# Streamlit header\n",
    "st.title(\"Baseball Hit Analyzer\")\n",
    "\n",
    "# Filter by player (if the dataset contains player names)\n",
    "player = st.selectbox('Select Player', data['title'].unique())\n",
    "\n",
    "# Filter dataset by selected player\n",
    "player_data = data[data['title'] == player]\n",
    "\n",
    "# Plot Exit Velocity vs. Hit Distance\n",
    "fig, ax = plt.subplots()\n",
    "ax.scatter(player_data['ExitVelocity'], player_data['HitDistance'])\n",
    "ax.set_xlabel('Exit Velocity (mph)')\n",
    "ax.set_ylabel('Hit Distance (feet)')\n",
    "ax.set_title(f'Exit Velocity vs Hit Distance for {player}')\n",
    "st.pyplot(fig)\n",
    "\n",
    "# Show a video of the selected hit (Assuming 'video' column contains video paths or URLs)\n",
    "video_url = player_data.iloc[0]['video']\n",
    "st.video(video_url)"
   ]
  },
  {
   "cell_type": "code",
   "execution_count": null,
   "id": "19a98a2c-f67b-434c-9308-eedd68a3abf8",
   "metadata": {},
   "outputs": [],
   "source": []
  }
 ],
 "metadata": {
  "kernelspec": {
   "display_name": "Python 3 (ipykernel)",
   "language": "python",
   "name": "python3"
  },
  "language_info": {
   "codemirror_mode": {
    "name": "ipython",
    "version": 3
   },
   "file_extension": ".py",
   "mimetype": "text/x-python",
   "name": "python",
   "nbconvert_exporter": "python",
   "pygments_lexer": "ipython3",
   "version": "3.12.7"
  }
 },
 "nbformat": 4,
 "nbformat_minor": 5
}
